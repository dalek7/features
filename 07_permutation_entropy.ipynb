{
 "cells": [
  {
   "cell_type": "code",
   "execution_count": 1,
   "metadata": {},
   "outputs": [],
   "source": [
    "import numpy as np\n",
    "import pandas as pd\n",
    "\n",
    "import matplotlib as plt"
   ]
  },
  {
   "cell_type": "markdown",
   "metadata": {},
   "source": [
    "# <1> Permutation entropy\n",
    "- 순열 엔트로피(Permutation entropy)는 어떤 순열의 변화의 정도를 측정하는 척도이며, 순열 엔트로피는 어떤 시계열 자료의 오르고 내리는 변동이 얼마나 무작위적인지를 측정하여 분석하는 데에 사용된다.\n",
    "- 순열 엔트로피는 수열, 즉 시계열 데이터가 있을 때 연속된 k개의 데이터의 순위 변화를 나타내는 tuple의 엔트로피로 결정된다.\n",
    "<br><br>\n",
    "- 예를 들어 $x = (4,7,9,10,6,11,3)$이고 $k=3$이라면 가장 앞에 있는 세 개의 원소 $(4,7,9)$의 순위(rank)는 $(1,2,3)$이다. 그 다음 3원소 $(7,9,10)$의 순위는 $(1,2,3)$이다.\n",
    "- 이에 따라 5개의 rank tuple을 구한다면 $(1,2,3), (1,2,3), (2,3,1), (2,1,3), (2,3,1)$이 된다. \n",
    "- 이 tuple을 기준으로 entropy를 구한다면 $(1,2,3)$과 $(2,3,1)$은 각각 두 번, $(2,1,3)$은 한 번 발생하므로 각 tuple의 확률은 $2/5, 2/5, 1/5$이며, k=3인 수열 x의 permutation entropy는 다음과 같이 계산된다.\n",
    "$$PE(x,3)=-(2/5)log(2/5)-(2/5)log(2/5)-1/5log(1/5)$$\n",
    "\n",
    "\n",
    "## 1. 코드 구현\n",
    "- 순열 엔트로피의 계산 단계를 코드로 구현한다면, 아래와 같이 세 단계로 나뉜다.\n",
    "\n",
    "### 1.1 Chunk the data into sub-windows of length D starting every tau.\n",
    "\n",
    "x = [4, 7, 9, 10, 6, 11, 3]는 D = 3일 때 아래와 같이 나눠진다.\n",
    "(D는 앞서 말한 k에 대응된다.)"
   ]
  },
  {
   "cell_type": "code",
   "execution_count": 2,
   "metadata": {},
   "outputs": [
    {
     "name": "stdout",
     "output_type": "stream",
     "text": [
      "[[4, 7, 9], [7, 9, 10], [9, 10, 6], [10, 6, 11], [6, 11, 3]]\n"
     ]
    }
   ],
   "source": [
    "x=[4, 7, 9, 10, 6, 11, 3]\n",
    "\n",
    "def chunk_data(x, D):\n",
    "    chunked_x = []\n",
    "    for i in range(0,len(x)-D+1):\n",
    "        chunked_x.append(x[i:i+D])\n",
    "    return chunked_x\n",
    "\n",
    "print(chunk_data(x, 3))\n"
   ]
  },
  {
   "cell_type": "markdown",
   "metadata": {},
   "source": [
    "### 1.2 Replace each D-window by the permutation, that captures the ordinal ranking of the data\n",
    "- D 사이즈의 chunk로 나뉜 각각의 튜플을 tuple 내의 rank로 표현한다"
   ]
  },
  {
   "cell_type": "code",
   "execution_count": 3,
   "metadata": {},
   "outputs": [
    {
     "data": {
      "text/plain": [
       "array([[0, 1, 2],\n",
       "       [0, 1, 2],\n",
       "       [1, 2, 0],\n",
       "       [1, 0, 2],\n",
       "       [1, 2, 0]])"
      ]
     },
     "execution_count": 3,
     "metadata": {},
     "output_type": "execute_result"
    }
   ],
   "source": [
    "chunked_x = chunk_data(x,3)\n",
    "\n",
    "permutations = np.argsort(np.argsort(chunked_x))\n",
    "permutations"
   ]
  },
  {
   "cell_type": "markdown",
   "metadata": {},
   "source": [
    "### 1.3 Count the frequencies of every permutation and return their entropy (we use log_e and not log_2).\n",
    "- 각 튜플의 발생 횟수를 세고, 각 횟수에 따른 발생 확률을 구한다.\n",
    "- 해당 확률을 기반으로 entropy를 계산한다"
   ]
  },
  {
   "cell_type": "code",
   "execution_count": 4,
   "metadata": {},
   "outputs": [
    {
     "data": {
      "text/plain": [
       "(array([[0, 1, 2],\n",
       "        [1, 0, 2],\n",
       "        [1, 2, 0]]),\n",
       " array([2, 1, 2]))"
      ]
     },
     "execution_count": 4,
     "metadata": {},
     "output_type": "execute_result"
    }
   ],
   "source": [
    "# Count the number of occurences\n",
    "tuples, counts = np.unique(permutations, axis=0, return_counts=True)\n",
    "tuples, counts"
   ]
  },
  {
   "cell_type": "code",
   "execution_count": 5,
   "metadata": {},
   "outputs": [
    {
     "data": {
      "text/plain": [
       "array([0.4, 0.2, 0.4])"
      ]
     },
     "execution_count": 5,
     "metadata": {},
     "output_type": "execute_result"
    }
   ],
   "source": [
    "# turn them into frequencies\n",
    "probs = counts / len(permutations)\n",
    "probs"
   ]
  },
  {
   "cell_type": "code",
   "execution_count": 6,
   "metadata": {},
   "outputs": [
    {
     "data": {
      "text/plain": [
       "1.0549201679861442"
      ]
     },
     "execution_count": 6,
     "metadata": {},
     "output_type": "execute_result"
    }
   ],
   "source": [
    "# Calculate entropy\n",
    "pe = -np.sum(probs * np.log(probs))\n",
    "pe"
   ]
  },
  {
   "cell_type": "markdown",
   "metadata": {},
   "source": [
    "## 2. TSFRESH 구현 코드\n",
    "\n",
    "- TSFRESH 라이브러리 내 구현 코드는 아래와 같다. (https://tsfresh.readthedocs.io/en/latest/_modules/tsfresh/feature_extraction/feature_calculators.html#permutation_entropy) \n",
    "- 추가적으로 tau라는 변수가 고려된다. tau는 step을 의미한다."
   ]
  },
  {
   "cell_type": "code",
   "execution_count": 7,
   "metadata": {},
   "outputs": [],
   "source": [
    "def permutation_entropy(x, tau, dimension):\n",
    "    \"\"\"\n",
    "    Calculate the permutation entropy.\n",
    "\n",
    "    Three steps are needed for this:\n",
    "\n",
    "    1. chunk the data into sub-windows of length D starting every tau.\n",
    "       Following the example from the reference, a vector\n",
    "\n",
    "        x = [4, 7, 9, 10, 6, 11, 3]\n",
    "\n",
    "       with D = 3 and tau = 1 is turned into\n",
    "\n",
    "           [[ 4,  7,  9],\n",
    "            [ 7,  9, 10],\n",
    "            [ 9, 10,  6],\n",
    "            [10,  6, 11],\n",
    "            [ 6, 11,  3]]\n",
    "\n",
    "    2. replace each D-window by the permutation, that\n",
    "       captures the ordinal ranking of the data.\n",
    "       That gives\n",
    "\n",
    "           [[0, 1, 2],\n",
    "            [0, 1, 2],\n",
    "            [1, 2, 0],\n",
    "            [1, 0, 2],\n",
    "            [1, 2, 0]]\n",
    "\n",
    "    3. Now we just need to count the frequencies of every permutation\n",
    "       and return their entropy (we use log_e and not log_2).\n",
    "\n",
    "    Ref: https://www.aptech.com/blog/permutation-entropy/\n",
    "         Bandt, Christoph and Bernd Pompe.\n",
    "         “Permutation entropy: a natural complexity measure for time series.”\n",
    "         Physical review letters 88 17 (2002): 174102 .\n",
    "    \"\"\"\n",
    "\n",
    "    X = _into_subchunks(x, dimension, tau)\n",
    "    if len(X) == 0:\n",
    "        return np.nan\n",
    "    # Now that is clearly black, magic, but see here:\n",
    "    # https://stackoverflow.com/questions/54459554/numpy-find-index-in-sorted-array-in-an-efficient-way\n",
    "    permutations = np.argsort(np.argsort(X))\n",
    "    # Count the number of occurences\n",
    "    _, counts = np.unique(permutations, axis=0, return_counts=True)\n",
    "    # turn them into frequencies\n",
    "    probs = counts / len(permutations)\n",
    "    # and return their entropy\n",
    "    return -np.sum(probs * np.log(probs))\n",
    "\n",
    "\n",
    "def _into_subchunks(x, subchunk_length, every_n=1):\n",
    "    \"\"\"\n",
    "    Split the time series x into subwindows of length \"subchunk_length\", starting every \"every_n\".\n",
    "\n",
    "    For example, the input data if [0, 1, 2, 3, 4, 5, 6] will be turned into a matrix\n",
    "\n",
    "        0  2  4\n",
    "        1  3  5\n",
    "        2  4  6\n",
    "\n",
    "    with the settings subchunk_length = 3 and every_n = 2\n",
    "    \"\"\"\n",
    "    len_x = len(x)\n",
    "\n",
    "    assert subchunk_length > 1\n",
    "    assert every_n > 0\n",
    "\n",
    "    # how often can we shift a window of size subchunk_length over the input?\n",
    "    num_shifts = (len_x - subchunk_length) // every_n + 1\n",
    "    shift_starts = every_n * np.arange(num_shifts)\n",
    "    indices = np.arange(subchunk_length)\n",
    "\n",
    "    indexer = np.expand_dims(indices, axis=0) + np.expand_dims(shift_starts, axis=1)\n",
    "    return np.asarray(x)[indexer]"
   ]
  },
  {
   "cell_type": "markdown",
   "metadata": {},
   "source": [
    "동일한 순열에 대한 entropy 값을 구해보면 아래와 같이 동일하게 나오는 것을 확인할 수 있다"
   ]
  },
  {
   "cell_type": "code",
   "execution_count": 8,
   "metadata": {},
   "outputs": [
    {
     "data": {
      "text/plain": [
       "1.0549201679861442"
      ]
     },
     "execution_count": 8,
     "metadata": {},
     "output_type": "execute_result"
    }
   ],
   "source": [
    "permutation_entropy([4, 7, 9, 10, 6, 11, 3], 1, 3)"
   ]
  },
  {
   "cell_type": "markdown",
   "metadata": {},
   "source": [
    "## 3. 실제 데이터 적용"
   ]
  },
  {
   "cell_type": "code",
   "execution_count": 9,
   "metadata": {},
   "outputs": [
    {
     "name": "stdout",
     "output_type": "stream",
     "text": [
      "            Temp\n",
      "Date            \n",
      "1981-01-01  20.7\n",
      "1981-01-02  17.9\n",
      "1981-01-03  18.8\n",
      "1981-01-04  14.6\n",
      "1981-01-05  15.8\n",
      "(3650, 1)\n"
     ]
    }
   ],
   "source": [
    "series = pd.read_csv('./data/daily-min-temperatures.csv', header=0, index_col=0)\n",
    "print(series.head())\n",
    "print(series.shape)"
   ]
  },
  {
   "cell_type": "markdown",
   "metadata": {},
   "source": [
    "Calculate the permutation entropy for temperature with the window size of 3 and the shift of 1\n"
   ]
  },
  {
   "cell_type": "code",
   "execution_count": 10,
   "metadata": {},
   "outputs": [
    {
     "data": {
      "text/plain": [
       "1.7578877034206861"
      ]
     },
     "execution_count": 10,
     "metadata": {},
     "output_type": "execute_result"
    }
   ],
   "source": [
    "temperatures = series['Temp'].values\n",
    "permutation_entropy(temperatures, 1, 3)"
   ]
  },
  {
   "cell_type": "markdown",
   "metadata": {},
   "source": [
    "다른 window size에 따른 permutation entropy 값을 확인해보자"
   ]
  },
  {
   "cell_type": "code",
   "execution_count": 11,
   "metadata": {},
   "outputs": [
    {
     "name": "stdout",
     "output_type": "stream",
     "text": [
      "window size: 3 | entropy: 1.7579\n",
      "window size: 5 | entropy: 4.5964\n",
      "window size: 10 | entropy: 8.1939\n",
      "window size: 50 | entropy: 8.1890\n",
      "window size: 100 | entropy: 8.1750\n",
      "window size: 3650 | entropy: -0.0000\n"
     ]
    }
   ],
   "source": [
    "windows = [3, 5, 10, 50, 100, 3650]\n",
    "for w in windows:\n",
    "    print(f\"window size: {w} | entropy: {permutation_entropy(temperatures, 1, w):.4f}\")"
   ]
  },
  {
   "cell_type": "markdown",
   "metadata": {},
   "source": [
    "k가 증가함에 따라서 entropy가 변화하며, window size가 total length와 동일할 때 entropy는 0이다.<br>\n",
    "entropy가 가장 높은 경우는 나타날 수 있는 모든 순위의 변화,즉 k!개의 모든 순위가 나타날 때임을 알 수 있다.<br>\n",
    "permutation entropy는 주가 변동 분석 등 시계열 분석에 있어서 어떤 데이터의 오르내리는 변동의 무작위성을 측정할 수 있는 도구이다."
   ]
  },
  {
   "cell_type": "markdown",
   "metadata": {},
   "source": [
    "Reference\n",
    "- https://www.aptech.com/blog/permutation-entropy/"
   ]
  }
 ],
 "metadata": {
  "interpreter": {
   "hash": "a861a4eadf4812506c294294566cf01772240117caa3e7610ae423f8bc39f9e6"
  },
  "kernelspec": {
   "display_name": "Python 3",
   "language": "python",
   "name": "python3"
  },
  "language_info": {
   "codemirror_mode": {
    "name": "ipython",
    "version": 3
   },
   "file_extension": ".py",
   "mimetype": "text/x-python",
   "name": "python",
   "nbconvert_exporter": "python",
   "pygments_lexer": "ipython3",
   "version": "3.7.9"
  }
 },
 "nbformat": 4,
 "nbformat_minor": 2
}
